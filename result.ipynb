{
 "cells": [
  {
   "cell_type": "code",
   "execution_count": 2,
   "metadata": {},
   "outputs": [
    {
     "name": "stderr",
     "output_type": "stream",
     "text": [
      "you are using nologin method, data you access may be limited\n"
     ]
    },
    {
     "data": {
      "text/plain": [
       "datetime\n",
       "2021-01-09 08:00:00    39298.747335\n",
       "2021-01-10 08:00:00    37705.265080\n",
       "2021-01-11 08:00:00    35435.499061\n",
       "2021-01-12 08:00:00    34105.017721\n",
       "2021-01-13 08:00:00    37396.067379\n",
       "                           ...     \n",
       "2022-01-04 08:00:00    45871.550000\n",
       "2022-01-05 08:00:00    43544.170000\n",
       "2022-01-06 08:00:00    43187.320000\n",
       "2022-01-07 08:00:00    41603.710000\n",
       "2022-01-08 08:00:00    41941.350000\n",
       "Name: close, Length: 365, dtype: float64"
      ]
     },
     "execution_count": 2,
     "metadata": {},
     "output_type": "execute_result"
    }
   ],
   "source": [
    "from TradingView import Datafeed\n",
    "Data = Datafeed()\n",
    "Data.Binance_daily_close(symbol='BTCUSD', date_start_str='2021/01/01', date_end_str='2022/01/01')"
   ]
  }
 ],
 "metadata": {
  "interpreter": {
   "hash": "e900712a48e6e8c5280e0c313274ff1f0f241a53f4d7c1c40d5069d2ab53edda"
  },
  "kernelspec": {
   "display_name": "Python 3.10.1 64-bit ('PairsTrading': conda)",
   "language": "python",
   "name": "python3"
  },
  "language_info": {
   "codemirror_mode": {
    "name": "ipython",
    "version": 3
   },
   "file_extension": ".py",
   "mimetype": "text/x-python",
   "name": "python",
   "nbconvert_exporter": "python",
   "pygments_lexer": "ipython3",
   "version": "3.10.1"
  },
  "orig_nbformat": 4
 },
 "nbformat": 4,
 "nbformat_minor": 2
}
