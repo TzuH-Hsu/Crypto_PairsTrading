{
 "cells": [
  {
   "cell_type": "code",
   "execution_count": null,
   "metadata": {},
   "outputs": [],
   "source": [
    "from TradingView import Datafeed\n",
    "import pandas as pd\n",
    "\n",
    "Data = Datafeed()\n",
    "prices_df = pd.DataFrame()\n",
    "\n",
    "crypto_list = [('BTCUSD', 'COINBASE'),\n",
    "               ('ETHUSD', 'COINBASE'),\n",
    "               ('BNBUSD', 'BINANCE'),\n",
    "               ('ADAUSD', 'BINANCE'),\n",
    "               ('LUNAUSD', 'BINANCE'),\n",
    "               ('XRPUSD', 'BINANCE'),\n",
    "               ('LINKUSD', 'BINANCE'),\n",
    "               ('CROUSD', 'BITTREX'),\n",
    "               ('MANAUSD', 'BINANCE'),\n",
    "               ('FTTUSD', 'FTX')]\n",
    "\n",
    "for crypto in crypto_list:\n",
    "    prices_df[crypto[0]] = Data.daily_close(symbol=crypto[0], exchange=crypto[1], \n",
    "                                            date_start_str='2020/01/01', date_end_str='2022/01/01')"
   ]
  },
  {
   "cell_type": "code",
   "execution_count": null,
   "metadata": {},
   "outputs": [],
   "source": [
    "import matplotlib.pyplot as plt\n",
    "\n",
    "for crypto in prices_df.columns:\n",
    "    plt.figure(figsize = (16, 9))\n",
    "    plt.plot(prices_df[crypto], label = crypto)\n",
    "    plt.title(crypto)\n",
    "    plt.legend()\n",
    "    plt.grid()\n",
    "    plt.show()"
   ]
  },
  {
   "cell_type": "code",
   "execution_count": null,
   "metadata": {},
   "outputs": [],
   "source": [
    "from MethodUtil import cal_return, descriptive_statistics\n",
    "return_df = cal_return(prices_df).dropna()\n",
    "descriptive_statistics(return_df)"
   ]
  },
  {
   "cell_type": "code",
   "execution_count": null,
   "metadata": {},
   "outputs": [],
   "source": [
    "logreturn_df = cal_return(prices_df, log=True).dropna()\n",
    "descriptive_statistics(logreturn_df)"
   ]
  },
  {
   "cell_type": "code",
   "execution_count": null,
   "metadata": {},
   "outputs": [],
   "source": [
    "from MethodUtil import return_spreads\n",
    "return_spreads_df = return_spreads(logreturn_df)\n",
    "descriptive_statistics(return_spreads_df)"
   ]
  },
  {
   "cell_type": "code",
   "execution_count": null,
   "metadata": {},
   "outputs": [],
   "source": [
    "from MethodUtil import pair_selection_MSD\n",
    "MSD_df = pair_selection_MSD(prices_df)\n",
    "\n",
    "from MethodUtil import cointegration_test\n",
    "cointegration_df = cointegration_test(prices_df, alpha=0.05)\n",
    "\n",
    "pd.concat([MSD_df, cointegration_df], axis='columns')"
   ]
  },
  {
   "cell_type": "code",
   "execution_count": null,
   "metadata": {},
   "outputs": [],
   "source": [
    "# selected_list = [('ETHUSD', 'BNBUSD'), ('ADAUSD', 'FTTUSD'), ('BNBUSD', 'FTTUSD'), ('ETHUSD', 'FTTUSD'), ('XRPUSD', 'FTTUSD'), ('ADAUSD', 'XRPUSD')]\n",
    "selected_list = [('ETHUSD', 'BNBUSD'),('XRPUSD', 'FTTUSD')]"
   ]
  },
  {
   "cell_type": "code",
   "execution_count": null,
   "metadata": {},
   "outputs": [],
   "source": [
    "from MethodUtil import price_normalization\n",
    "for pair in selected_list:\n",
    "    prices_norm = price_normalization(prices_df)\n",
    "    plt.figure(figsize = (16, 9))\n",
    "    plt.plot(prices_norm[pair[0]], label = pair[0])\n",
    "    plt.plot(prices_norm[pair[1]], label = pair[1])\n",
    "    plt.title(f'{pair[0]} v.s. {pair[1]}')\n",
    "    plt.legend()\n",
    "    plt.grid()\n",
    "    plt.show()"
   ]
  },
  {
   "cell_type": "code",
   "execution_count": null,
   "metadata": {},
   "outputs": [],
   "source": [
    "from MethodUtil import ForecastModel\n",
    "from arch.univariate import *\n",
    "model_list = []\n",
    "for pair in selected_list:\n",
    "    for vol in [GARCH(1,0,1), GARCH(1,1,1), EGARCH(1,0,1)]:\n",
    "        for dist in [Normal(), StudentsT(), SkewStudent()]:\n",
    "            Model = ForecastModel(return_spreads_df, pair=pair)\n",
    "            Model.modelspec(vol=vol, dist=dist)\n",
    "            for alpha in [[0.2, 0.8],[0.1, 0.9]]:\n",
    "                Model.rollingForecasting(window=365, VaR_alpha=[0.1, 0.9])\n",
    "                model_list.append(Model)"
   ]
  },
  {
   "cell_type": "code",
   "execution_count": null,
   "metadata": {},
   "outputs": [],
   "source": [
    "from MethodUtil import Strategy\n",
    "dfs = []\n",
    "for model in model_list:\n",
    "    strategy = Strategy(prices_df, model)\n",
    "    tmp_df = strategy.performance(date_start='2021-01-01')\n",
    "    dfs.append(tmp_df)\n",
    "pd.concat(dfs)"
   ]
  },
  {
   "cell_type": "code",
   "execution_count": null,
   "metadata": {},
   "outputs": [],
   "source": [
    "strategy = Strategy(prices_df, model_list[0])\n",
    "plt.figure(figsize = (16, 9))\n",
    "plt.plot(strategy.spread, label = 'spread')\n",
    "plt.plot(strategy.lowerVaR, label = 'lower bound')\n",
    "plt.plot(strategy.upperVaR, label = 'upper bound')\n",
    "plt.title('')\n",
    "plt.legend()\n",
    "plt.grid()\n",
    "plt.show()"
   ]
  },
  {
   "cell_type": "code",
   "execution_count": null,
   "metadata": {},
   "outputs": [],
   "source": [
    "model_list[0].res.summary()"
   ]
  }
 ],
 "metadata": {
  "interpreter": {
   "hash": "e900712a48e6e8c5280e0c313274ff1f0f241a53f4d7c1c40d5069d2ab53edda"
  },
  "kernelspec": {
   "display_name": "Python 3.10.1 64-bit ('PairsTrading': conda)",
   "language": "python",
   "name": "python3"
  },
  "language_info": {
   "codemirror_mode": {
    "name": "ipython",
    "version": 3
   },
   "file_extension": ".py",
   "mimetype": "text/x-python",
   "name": "python",
   "nbconvert_exporter": "python",
   "pygments_lexer": "ipython3",
   "version": "3.10.1"
  },
  "orig_nbformat": 4
 },
 "nbformat": 4,
 "nbformat_minor": 2
}
