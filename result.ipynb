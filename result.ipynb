{
 "cells": [
  {
   "cell_type": "code",
   "execution_count": 1,
   "metadata": {},
   "outputs": [
    {
     "name": "stderr",
     "output_type": "stream",
     "text": [
      "you are using nologin method, data you access may be limited\n"
     ]
    }
   ],
   "source": [
    "from TradingView import Datafeed\n",
    "import pandas as pd\n",
    "\n",
    "Data = Datafeed()\n",
    "prices_df = pd.DataFrame()\n",
    "\n",
    "crypto_list = [('BTCUSD', 'COINBASE'),\n",
    "               ('ETHUSD', 'COINBASE'),\n",
    "               ('BNBUSD', 'BINANCE'),\n",
    "               ('ADAUSD', 'BINANCE'),\n",
    "               ('LUNAUSD', 'BINANCE')]\n",
    "\n",
    "for crypto in crypto_list:\n",
    "    prices_df[crypto[0]] = Data.daily_close(symbol=crypto[0], exchange=crypto[1], \n",
    "                                            date_start_str='2020/01/01', date_end_str='2022/01/01')\n"
   ]
  },
  {
   "cell_type": "code",
   "execution_count": null,
   "metadata": {},
   "outputs": [],
   "source": [
    "normalized_prices_df = (prices_df-prices_df.mean())/prices_df.std()"
   ]
  },
  {
   "cell_type": "code",
   "execution_count": null,
   "metadata": {},
   "outputs": [],
   "source": [
    "import numpy as np\n",
    "MSD = np.zeros((5, 5))\n",
    "\n",
    "for i in range(5):\n",
    "    for j in range(5):\n",
    "        MSD[i, j] = sum((normalized_prices_df.iloc[:, i] - normalized_prices_df.iloc[:, j]) ** 2)"
   ]
  }
 ],
 "metadata": {
  "interpreter": {
   "hash": "e900712a48e6e8c5280e0c313274ff1f0f241a53f4d7c1c40d5069d2ab53edda"
  },
  "kernelspec": {
   "display_name": "Python 3.10.1 64-bit ('PairsTrading': conda)",
   "language": "python",
   "name": "python3"
  },
  "language_info": {
   "codemirror_mode": {
    "name": "ipython",
    "version": 3
   },
   "file_extension": ".py",
   "mimetype": "text/x-python",
   "name": "python",
   "nbconvert_exporter": "python",
   "pygments_lexer": "ipython3",
   "version": "3.10.1"
  },
  "orig_nbformat": 4
 },
 "nbformat": 4,
 "nbformat_minor": 2
}
