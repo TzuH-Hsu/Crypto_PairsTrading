{
 "cells": [
  {
   "cell_type": "code",
   "execution_count": 1,
   "metadata": {},
   "outputs": [
    {
     "name": "stderr",
     "output_type": "stream",
     "text": [
      "you are using nologin method, data you access may be limited\n"
     ]
    }
   ],
   "source": [
    "from TradingView import Datafeed\n",
    "import pandas as pd\n",
    "\n",
    "Data = Datafeed()\n",
    "prices_df = pd.DataFrame()\n",
    "\n",
    "crypto_list = [('BTCUSD', 'COINBASE'),\n",
    "               ('ETHUSD', 'COINBASE'),\n",
    "               ('BNBUSD', 'BINANCE'),\n",
    "               ('ADAUSD', 'BINANCE'),\n",
    "               ('LUNAUSD', 'BINANCE')]\n",
    "\n",
    "for crypto in crypto_list:\n",
    "    prices_df[crypto[0]] = Data.daily_close(symbol=crypto[0], exchange=crypto[1], \n",
    "                                            date_start_str='2020/01/01', date_end_str='2022/01/01')\n"
   ]
  },
  {
   "cell_type": "code",
   "execution_count": 2,
   "metadata": {},
   "outputs": [],
   "source": [
    "normalized_prices_df = (prices_df-prices_df.mean())/prices_df.std()"
   ]
  },
  {
   "cell_type": "code",
   "execution_count": 21,
   "metadata": {},
   "outputs": [
    {
     "data": {
      "text/html": [
       "<div>\n",
       "<style scoped>\n",
       "    .dataframe tbody tr th:only-of-type {\n",
       "        vertical-align: middle;\n",
       "    }\n",
       "\n",
       "    .dataframe tbody tr th {\n",
       "        vertical-align: top;\n",
       "    }\n",
       "\n",
       "    .dataframe thead th {\n",
       "        text-align: right;\n",
       "    }\n",
       "</style>\n",
       "<table border=\"1\" class=\"dataframe\">\n",
       "  <thead>\n",
       "    <tr style=\"text-align: right;\">\n",
       "      <th></th>\n",
       "      <th>BTCUSD</th>\n",
       "      <th>ETHUSD</th>\n",
       "      <th>BNBUSD</th>\n",
       "      <th>ADAUSD</th>\n",
       "      <th>LUNAUSD</th>\n",
       "    </tr>\n",
       "    <tr>\n",
       "      <th></th>\n",
       "      <th></th>\n",
       "      <th></th>\n",
       "      <th></th>\n",
       "      <th></th>\n",
       "      <th></th>\n",
       "    </tr>\n",
       "  </thead>\n",
       "  <tbody>\n",
       "    <tr>\n",
       "      <th>BTCUSD</th>\n",
       "      <td>0.000000</td>\n",
       "      <td>140.589720</td>\n",
       "      <td>156.988805</td>\n",
       "      <td>201.204526</td>\n",
       "      <td>439.756803</td>\n",
       "    </tr>\n",
       "    <tr>\n",
       "      <th>ETHUSD</th>\n",
       "      <td>140.589720</td>\n",
       "      <td>0.000000</td>\n",
       "      <td>56.656220</td>\n",
       "      <td>109.058555</td>\n",
       "      <td>225.226495</td>\n",
       "    </tr>\n",
       "    <tr>\n",
       "      <th>BNBUSD</th>\n",
       "      <td>156.988805</td>\n",
       "      <td>56.656220</td>\n",
       "      <td>0.000000</td>\n",
       "      <td>142.120388</td>\n",
       "      <td>291.768085</td>\n",
       "    </tr>\n",
       "    <tr>\n",
       "      <th>ADAUSD</th>\n",
       "      <td>201.204526</td>\n",
       "      <td>109.058555</td>\n",
       "      <td>142.120388</td>\n",
       "      <td>0.000000</td>\n",
       "      <td>428.187199</td>\n",
       "    </tr>\n",
       "    <tr>\n",
       "      <th>LUNAUSD</th>\n",
       "      <td>439.756803</td>\n",
       "      <td>225.226495</td>\n",
       "      <td>291.768085</td>\n",
       "      <td>428.187199</td>\n",
       "      <td>0.000000</td>\n",
       "    </tr>\n",
       "  </tbody>\n",
       "</table>\n",
       "</div>"
      ],
      "text/plain": [
       "             BTCUSD      ETHUSD      BNBUSD      ADAUSD     LUNAUSD\n",
       "                                                                   \n",
       "BTCUSD     0.000000  140.589720  156.988805  201.204526  439.756803\n",
       "ETHUSD   140.589720    0.000000   56.656220  109.058555  225.226495\n",
       "BNBUSD   156.988805   56.656220    0.000000  142.120388  291.768085\n",
       "ADAUSD   201.204526  109.058555  142.120388    0.000000  428.187199\n",
       "LUNAUSD  439.756803  225.226495  291.768085  428.187199    0.000000"
      ]
     },
     "execution_count": 21,
     "metadata": {},
     "output_type": "execute_result"
    }
   ],
   "source": [
    "import numpy as np\n",
    "MSD = np.zeros((5, 5))\n",
    "\n",
    "for i in range(5):\n",
    "    for j in range(5):\n",
    "        MSD[i, j] = sum((normalized_prices_df.iloc[:, i] - normalized_prices_df.iloc[:, j]) ** 2)\n",
    "\n",
    "MSD_df = pd.DataFrame(MSD, columns=['BTCUSD', 'ETHUSD', 'BNBUSD', 'ADAUSD', 'LUNAUSD'])\n",
    "MSD_df.insert(loc=0, column='', value=['BTCUSD', 'ETHUSD', 'BNBUSD', 'ADAUSD', 'LUNAUSD'])\n",
    "MSD_df.set_index('')"
   ]
  }
 ],
 "metadata": {
  "interpreter": {
   "hash": "e900712a48e6e8c5280e0c313274ff1f0f241a53f4d7c1c40d5069d2ab53edda"
  },
  "kernelspec": {
   "display_name": "Python 3.10.1 64-bit ('PairsTrading': conda)",
   "language": "python",
   "name": "python3"
  },
  "language_info": {
   "codemirror_mode": {
    "name": "ipython",
    "version": 3
   },
   "file_extension": ".py",
   "mimetype": "text/x-python",
   "name": "python",
   "nbconvert_exporter": "python",
   "pygments_lexer": "ipython3",
   "version": "3.10.1"
  },
  "orig_nbformat": 4
 },
 "nbformat": 4,
 "nbformat_minor": 2
}
